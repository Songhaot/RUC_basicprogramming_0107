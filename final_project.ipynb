{
 "cells": [
  {
   "cell_type": "markdown",
   "metadata": {},
   "source": [
    "# 编程基础期末大作业\n",
    "### 宋浩天 应用统计 2023103378"
   ]
  },
  {
   "cell_type": "code",
   "execution_count": 1,
   "metadata": {},
   "outputs": [],
   "source": [
    "import numpy as np\n",
    "import pandas as pd\n",
    "\n",
    "import matplotlib.pyplot as plt\n",
    "from sklearn.tree import DecisionTreeClassifier\n",
    "from sklearn.model_selection import train_test_split, cross_val_score, KFold, GridSearchCV\n",
    "from sklearn.linear_model import LogisticRegression\n",
    "from sklearn.metrics import accuracy_score, classification_report, roc_curve, auc\n",
    "import statsmodels.api as sm\n",
    "from plotnine import *\n",
    "plt.rcParams['font.sans-serif'] = ['SimHei']\n",
    "plt.rcParams['axes.unicode_minus'] = False"
   ]
  },
  {
   "cell_type": "markdown",
   "metadata": {},
   "source": [
    "## 类的定义和函数定义"
   ]
  },
  {
   "cell_type": "code",
   "execution_count": 2,
   "metadata": {},
   "outputs": [],
   "source": [
    "class BaseClassifier:\n",
    "    def __init__(self, model):\n",
    "        self.model = model\n",
    "        self.best_params_ = None\n",
    "\n",
    "    def train(self, X_train, y_train):\n",
    "\n",
    "        self.tune_hyperparameters(X_train, y_train)\n",
    "\n",
    "        self.model.fit(X_train, y_train)\n",
    "\n",
    "    def predict(self, X_test):\n",
    "\n",
    "        return self.model.predict(X_test)\n",
    "\n",
    "    def evaluate(self, X_test, y_test):\n",
    "\n",
    "        y_pred = self.predict(X_test)\n",
    "\n",
    "        accuracy = accuracy_score(y_test, y_pred)\n",
    "        print(f'Accuracy: {accuracy:.2f}')\n",
    "        print('Classification Report:\\n', classification_report(y_test, y_pred))\n",
    "        return y_pred\n",
    "\n",
    "    def tune_hyperparameters(self, X_train, y_train):\n",
    "        raise NotImplementedError(\"tune_hyperparameters method should be implemented in subclasses.\")\n",
    "\n",
    "    def cross_validate(self, X, y, num_folds=5):\n",
    "        kf = KFold(n_splits=num_folds, shuffle=True, random_state=42)\n",
    "\n",
    "        accuracies = cross_val_score(self.model, X, y, cv=kf, scoring='accuracy')\n",
    "        print(f'Cross-validated Accuracy: {np.mean(accuracies):.2f} (±{np.std(accuracies):.2f})')\n",
    "        print('Best Parameters:', self.best_params_)\n",
    "\n",
    "\n",
    "class LogisticRegressionClassifier(BaseClassifier):\n",
    "    def __init__(self):\n",
    "        super().__init__(LogisticRegression(penalty='l2', C=1e10))\n",
    "\n",
    "    def tune_hyperparameters(self, X_train, y_train):\n",
    "        self.best_params_ = None\n",
    "\n",
    "\n",
    "class DecisionTreeClassifierWrapper(BaseClassifier):\n",
    "    def __init__(self, max_depth=None, min_samples_split=2, min_samples_leaf=1):\n",
    "        super().__init__(DecisionTreeClassifier(\n",
    "            max_depth=max_depth,\n",
    "            min_samples_split=min_samples_split,\n",
    "            min_samples_leaf=min_samples_leaf\n",
    "        ))\n",
    "\n",
    "    def tune_hyperparameters(self, X_train, y_train):\n",
    "        # 使用网格搜索进行参数调优\n",
    "        param_grid = {\n",
    "            'max_depth': [None, 5, 7,10,13, 15],\n",
    "            'min_samples_split': [2,3, 5,7, 10],\n",
    "            'min_samples_leaf': [1, 2, 4]\n",
    "        }\n",
    "\n",
    "        grid_search = GridSearchCV(self.model, param_grid, cv=5, scoring='accuracy')\n",
    "\n",
    "        grid_search.fit(X_train, y_train)\n",
    "\n",
    "        # 获取最优参数\n",
    "        self.best_params_ = grid_search.best_params_\n",
    "        self.model = DecisionTreeClassifier(**self.best_params_)\n",
    "        print(self.model)\n",
    "        # self.model.fit(X_train, y_train)"
   ]
  },
  {
   "cell_type": "code",
   "execution_count": 3,
   "metadata": {},
   "outputs": [],
   "source": [
    "# 对原始数据进行处理\n",
    "def man_data(X1, X2):\n",
    "    temp1 = []\n",
    "    temp2 = []\n",
    "    for i in range(len(X1)):\n",
    "        for j in range(len(X2)):\n",
    "            if X1[i][0] == X2[j][0]:\n",
    "                temp1.append(X2[j])\n",
    "    temp11 = np.delete(temp1, [0], axis=1)  # 根据胜负表中的第一支队伍，挑出它的数据\n",
    "    for i in range(len(X1)):\n",
    "        for j in range(len(X2)):\n",
    "            if X1[i][2] == X2[j][0]:\n",
    "                temp2.append(X2[j])\n",
    "    temp22 = np.delete(temp2, [0], axis=1)  # 根据胜负表中的第二支队伍，挑出它的数据\n",
    "\n",
    "    temp = []\n",
    "    for i in range(len(temp11)):\n",
    "        temp.append(temp11[i]-temp22[i])  # 将两组数据相减作为训练集\n",
    "    c = 0\n",
    "    game_res = []\n",
    "    for i in range(len(X1)):\n",
    "        if X1[i][1] > X1[i][3]:\n",
    "            game_res.append(1)\n",
    "            c = c+1\n",
    "        else:\n",
    "            game_res.append(0)   # 根据比分构造出胜负情况，作为训练集\n",
    "    return temp, game_res\n",
    "\n",
    "\n",
    "def draw(pre, game_res):\n",
    "    res_pre = []\n",
    "    res_fact = []\n",
    "    for i in range(len(pre)):\n",
    "        if pre[i] == 'N':\n",
    "            res_pre.append(0.5)\n",
    "        else:\n",
    "            res_pre.append(1)\n",
    "    for i in range(len(game_res)):\n",
    "        if game_res[i] == 'N':\n",
    "            res_fact.append(0.5)\n",
    "        else:\n",
    "            res_fact.append(1)  # 胜利为1，失败为0.5，可视化预测与实际结果\n",
    "    game_count = [i for i in range(len(pre))]\n",
    "    xticks = np.arange(len(game_count))\n",
    "\n",
    "    fig, ax = plt.subplots(figsize=(10, 7))\n",
    "    # 宽度，这里选择0.25\n",
    "    ax.bar(xticks, res_pre, width=0.25, label=\"predict\", color=\"red\")\n",
    "    # 通过微调x轴坐标来调整新增柱子的位置\n",
    "    ax.bar(xticks + 0.25, res_fact, width=0.25, label=\"fact\", color=\"blue\")\n",
    "\n",
    "    ax.set_title(\"Comparing Result\", fontsize=15)\n",
    "    ax.set_xlabel(\"game_count\")\n",
    "    ax.set_ylabel(\"result\")\n",
    "    ax.legend()\n",
    "\n",
    "    # 最后调整x轴标签的位置\n",
    "    ax.set_xticks(xticks + 0.25)\n",
    "    ax.set_xticklabels(game_count)\n",
    "    plt.show()\n",
    "\n",
    "\n",
    "#对预测错误的场次进行分析\n",
    "def analyse_res(pre, game_res, Rk):\n",
    "    false_res = []\n",
    "    print('预测错误的场次队伍分数差：')\n",
    "    for i in range(len(pre)):\n",
    "        if (pre[i]!= game_res.iloc[i, :]).all():\n",
    "            row_index = game_res.index[i]\n",
    "            false_res.append(X1[row_index][0])\n",
    "            false_res.append(X1[row_index][2])  # 挑出预测错误的队伍\n",
    "            print(X1[row_index][1] - X1[row_index][3])  # 输出此次比赛的分数差\n",
    "\n",
    "    false_res_index1 = []\n",
    "    false_res_index2 = []\n",
    "    for i in range(0, len(false_res), 2):\n",
    "        for j in range(len(X2)):\n",
    "            if false_res[i] == X2[j][0]:\n",
    "                false_res_index1.append(j)\n",
    "    for i in range(1, len(false_res), 2):\n",
    "        for j in range(len(X2)):\n",
    "            if false_res[i] == X2[j][0]:\n",
    "                false_res_index2.append(j)\n",
    "    false_res_index = np.array(false_res_index1) - np.array(false_res_index2)  # 查看两支队伍最终排名的差距\n",
    "    print('预测错误的场次队伍战力差：')\n",
    "    print(false_res_index)\n",
    "\n",
    "    false_res_index3 = []\n",
    "    false_res_index4 = []\n",
    "    for i in range(0, len(false_res), 2):\n",
    "        for j in range(len(Rk)):\n",
    "            if false_res[i] == Rk[j][1]:\n",
    "                false_res_index3.append(j)\n",
    "    for i in range(1, len(false_res), 2):\n",
    "        for j in range(len(Rk)):\n",
    "            if false_res[i] == Rk[j][1]:\n",
    "                false_res_index4.append(j)\n",
    "    false_res_index = np.array(false_res_index3) - np.array(false_res_index4)  # 查看两支队伍最终排名的差距\n",
    "    print('预测错误的场次队伍赛季终排名差：')\n",
    "    print(false_res_index)\n"
   ]
  },
  {
   "cell_type": "markdown",
   "metadata": {},
   "source": [
    "## 数据预处理"
   ]
  },
  {
   "cell_type": "code",
   "execution_count": 4,
   "metadata": {},
   "outputs": [],
   "source": [
    "    a = pd.read_csv(r'WL.txt')  # 2002-2003赛季部分比赛胜负表\n",
    "    f = np.array(a)\n",
    "    delete_y = [0, 1, 6, 7, 8, 9]  # 删掉不重要的数据\n",
    "    X1 = np.delete(f, delete_y, axis=1)\n",
    "\n",
    "    b = pd.read_csv(r'2002-2003team.txt')  # 2002-2003赛季球队数据表\n",
    "    f1 = np.array(b)\n",
    "    delete_y=[0, 2, 3, 4, 5, 6, 8, 11, 13, 14, 24]# 删掉不重要的数据\n",
    "    X2 = np.delete(f1, delete_y, axis=1)\n",
    "    # 根据逐步回归结果需再删掉以下三个变量\n",
    "    # delete_y2 = [7, 9, 11]\n",
    "    # X2 = np.delete(X2, delete_y2, axis=1)\n",
    "\n",
    "    c = pd.read_csv(r'2002-2003Rk.txt')  # 2002-2003赛季球队排名表\n",
    "    f2 = np.array(c)\n",
    "\n",
    "    d = pd.read_csv(r'DET.txt')  # 2002-2003赛季DET队部分胜场表\n",
    "    f3 = np.array(d)\n",
    "\n",
    "    for i in range(len(X2)):\n",
    "        if X2[i][0][-1] == '*':\n",
    "            X2[i][0] = X2[i][0][:-1]  # 队伍后面带*的删掉\n",
    "\n",
    "    temp, game_res = man_data(X1, X2)"
   ]
  },
  {
   "cell_type": "markdown",
   "metadata": {},
   "source": [
    "## 直方图和箱线图"
   ]
  },
  {
   "cell_type": "code",
   "execution_count": 5,
   "metadata": {},
   "outputs": [
    {
     "data": {
      "image/png": "[encoded data removed]",
      "text/plain": [
       "<Figure size 432x288 with 1 Axes>"
      ]
     },
     "metadata": {
      "needs_background": "light"
     },
     "output_type": "display_data"
    },
    {
     "data": {
      "image/png": "[encoded data removed]",
      "text/plain": [
       "<Figure size 864x576 with 1 Axes>"
      ]
     },
     "metadata": {
      "needs_background": "light"
     },
     "output_type": "display_data"
    }
   ],
   "source": [
    "    pd_temp = pd.DataFrame(temp)\n",
    "    columns=['3P','3P%','2P','2P%','FT%','ORB','DRB','TRB','AST','STL','BLK','TOV','PF','COA']\n",
    "    # 逐步回归后的变量如下\n",
    "    # columns = ['3P', '3P%', '2P', '2P%', 'FT%', 'ORB', 'TRB', 'STL', 'TOV', 'PF', 'COA']\n",
    "    pd_temp.columns = columns\n",
    "    pd_game_res = pd.DataFrame(game_res)\n",
    "\n",
    "    #绘制直方图\n",
    "    plt.hist(pd_temp.iloc[:,2], bins=10, color='skyblue', edgecolor='black')\n",
    "    plt.xlabel('2P% Values')\n",
    "    plt.ylabel('Frequency')\n",
    "    plt.title('Histogram of 2P%')\n",
    "    plt.show()\n",
    "\n",
    "    #绘制箱线图\n",
    "    plt.figure(figsize=(12, 8))\n",
    "    pd_temp.boxplot()\n",
    "    plt.xlabel('Variable')\n",
    "    plt.ylabel('Values')\n",
    "    plt.title('Boxplot of Variable')\n",
    "    plt.show()"
   ]
  },
  {
   "cell_type": "markdown",
   "metadata": {},
   "source": [
    "## 逻辑斯蒂回归模型"
   ]
  },
  {
   "cell_type": "code",
   "execution_count": 6,
   "metadata": {},
   "outputs": [
    {
     "name": "stdout",
     "output_type": "stream",
     "text": [
      "Optimization terminated successfully.\n",
      "         Current function value: 0.497236\n",
      "         Iterations 6\n",
      "                           Logit Regression Results                           \n",
      "==============================================================================\n",
      "Dep. Variable:                      y   No. Observations:                  237\n",
      "Model:                          Logit   Df Residuals:                      222\n",
      "Method:                           MLE   Df Model:                           14\n",
      "Date:                Sun, 07 Jan 2024   Pseudo R-squ.:                  0.2322\n",
      "Time:                        17:01:13   Log-Likelihood:                -117.84\n",
      "converged:                       True   LL-Null:                       -153.48\n",
      "Covariance Type:            nonrobust   LLR p-value:                 1.139e-09\n",
      "==============================================================================\n",
      "                 coef    std err          z      P>|z|      [0.025      0.975]\n",
      "------------------------------------------------------------------------------\n",
      "const         -0.8481      0.174     -4.875      0.000      -1.189      -0.507\n",
      "3P            -1.1312      0.299     -3.782      0.000      -1.717      -0.545\n",
      "3P%           32.7137     13.521      2.419      0.016       6.212      59.215\n",
      "2P            -0.8337      0.208     -4.003      0.000      -1.242      -0.425\n",
      "2P%           61.8637     21.741      2.845      0.004      19.251     104.476\n",
      "FT%            8.4359      5.355      1.575      0.115      -2.059      18.931\n",
      "ORB           -0.9379      3.790     -0.247      0.805      -8.367       6.491\n",
      "DRB           -0.7188      3.780     -0.190      0.849      -8.127       6.689\n",
      "TRB            1.3090      3.773      0.347      0.729      -6.086       8.703\n",
      "AST           -0.0664      0.131     -0.505      0.613      -0.324       0.191\n",
      "STL            1.0147      0.234      4.330      0.000       0.555       1.474\n",
      "BLK            0.1319      0.245      0.538      0.591      -0.349       0.613\n",
      "TOV           -0.8715      0.209     -4.171      0.000      -1.281      -0.462\n",
      "PF             0.3181      0.147      2.166      0.030       0.030       0.606\n",
      "COA           -5.0629      2.159     -2.345      0.019      -9.294      -0.832\n",
      "==============================================================================\n"
     ]
    }
   ],
   "source": [
    "    X = sm.add_constant(pd_temp)\n",
    "    # print(X)\n",
    "    model = sm.Logit(game_res, X)\n",
    "    result = model.fit()\n",
    "    # 打印回归结果摘要，包括变量系数和显著性检验\n",
    "    print(result.summary())"
   ]
  },
  {
   "cell_type": "code",
   "execution_count": 7,
   "metadata": {
    "scrolled": false
   },
   "outputs": [
    {
     "name": "stdout",
     "output_type": "stream",
     "text": [
      "Cross-validated Accuracy: 0.71 (±0.06)\n",
      "Best Parameters: None\n",
      "Accuracy: 0.79\n",
      "Classification Report:\n",
      "              precision    recall  f1-score   support\n",
      "\n",
      "          0       0.84      0.84      0.84        32\n",
      "          1       0.69      0.69      0.69        16\n",
      "\n",
      "avg / total       0.79      0.79      0.79        48\n",
      "\n"
     ]
    },
    {
     "name": "stderr",
     "output_type": "stream",
     "text": [
      "D:\\Anaconda\\lib\\site-packages\\sklearn\\utils\\validation.py:578: DataConversionWarning: A column-vector y was passed when a 1d array was expected. Please change the shape of y to (n_samples, ), for example using ravel().\n"
     ]
    }
   ],
   "source": [
    "    logistic_classifier = LogisticRegressionClassifier()\n",
    "    X_train, X_test, y_train, y_test = train_test_split(pd_temp, pd_game_res, test_size=0.2, random_state=42)\n",
    "    logistic_classifier.train(X_train, y_train)\n",
    "    # print('Best Parameters:', logistic_classifier.best_params_)\n",
    "    # 进行五折交叉验证\n",
    "    logistic_classifier.cross_validate(temp, game_res)\n",
    "    logit_pred = logistic_classifier.evaluate(X_test, y_test)"
   ]
  },
  {
   "cell_type": "code",
   "execution_count": 8,
   "metadata": {},
   "outputs": [
    {
     "data": {
      "image/png": "[encoded data removed]",
      "text/plain": [
       "<Figure size 432x288 with 1 Axes>"
      ]
     },
     "metadata": {
      "needs_background": "light"
     },
     "output_type": "display_data"
    }
   ],
   "source": [
    "    coefficients = logistic_classifier.model.coef_\n",
    "    y_prob = logistic_classifier.model.predict_proba(X_test)[:, 1]\n",
    "    plt.scatter(np.array(X_test)[:, 4], np.array(y_prob))\n",
    "    #二分球命中率和球队获胜概率的散点图\n",
    "    plt.xlabel('X_test.2P%')\n",
    "    plt.ylabel('y_prob')\n",
    "    plt.show()"
   ]
  },
  {
   "cell_type": "code",
   "execution_count": 9,
   "metadata": {},
   "outputs": [
    {
     "data": {
      "image/png": "[encoded data removed]",
      "text/plain": [
       "<Figure size 576x432 with 1 Axes>"
      ]
     },
     "metadata": {
      "needs_background": "light"
     },
     "output_type": "display_data"
    }
   ],
   "source": [
    "    fpr, tpr, thresholds = roc_curve(y_test, y_prob)\n",
    "    roc_auc = auc(fpr, tpr)\n",
    "    # 绘制ROC曲线\n",
    "    plt.figure(figsize=(8, 6))\n",
    "    plt.plot(fpr, tpr, color='darkorange', lw=2, label='ROC curve (area = {:.2f})'.format(roc_auc))\n",
    "    plt.plot([0, 1], [0, 1], color='navy', lw=2, linestyle='--')\n",
    "    plt.xlabel('False Positive Rate')\n",
    "    plt.ylabel('True Positive Rate')\n",
    "    plt.title('ROC Curve')\n",
    "    plt.legend(loc='lower right')\n",
    "    plt.show()"
   ]
  },
  {
   "cell_type": "markdown",
   "metadata": {},
   "source": [
    "## 异常解决"
   ]
  },
  {
   "cell_type": "code",
   "execution_count": 10,
   "metadata": {},
   "outputs": [
    {
     "name": "stdout",
     "output_type": "stream",
     "text": [
      "tune_hyperparameters method should be implemented in subclasses.\n"
     ]
    }
   ],
   "source": [
    "    baseclass = BaseClassifier(LogisticRegression())\n",
    "    try:\n",
    "        baseclass.train(X_train, y_train)\n",
    "    except:\n",
    "        print('tune_hyperparameters method should be implemented in subclasses.')"
   ]
  },
  {
   "cell_type": "markdown",
   "metadata": {},
   "source": [
    "## 决策树模型"
   ]
  },
  {
   "cell_type": "code",
   "execution_count": 11,
   "metadata": {},
   "outputs": [
    {
     "name": "stdout",
     "output_type": "stream",
     "text": [
      "DecisionTreeClassifier(class_weight=None, criterion='gini', max_depth=None,\n",
      "            max_features=None, max_leaf_nodes=None,\n",
      "            min_impurity_decrease=0.0, min_impurity_split=None,\n",
      "            min_samples_leaf=4, min_samples_split=10,\n",
      "            min_weight_fraction_leaf=0.0, presort=False, random_state=None,\n",
      "            splitter='best')\n",
      "Cross-validated Accuracy: 0.62 (±0.05)\n",
      "Best Parameters: {'max_depth': None, 'min_samples_leaf': 4, 'min_samples_split': 10}\n",
      "Accuracy: 0.67\n",
      "Classification Report:\n",
      "              precision    recall  f1-score   support\n",
      "\n",
      "          0       0.75      0.75      0.75        32\n",
      "          1       0.50      0.50      0.50        16\n",
      "\n",
      "avg / total       0.67      0.67      0.67        48\n",
      "\n"
     ]
    }
   ],
   "source": [
    "    # 创建决策树分类器对象\n",
    "    tree_classifier = DecisionTreeClassifierWrapper()\n",
    "    tree_classifier.train(X_train, y_train)\n",
    "    tree_classifier.cross_validate(temp, game_res)\n",
    "    # 分割数据集并进行训练与评估\n",
    "    tree_pred=tree_classifier.evaluate(X_test, y_test)"
   ]
  },
  {
   "cell_type": "code",
   "execution_count": 12,
   "metadata": {},
   "outputs": [
    {
     "data": {
      "image/png": "[encoded data removed]",
      "text/plain": [
       "<Figure size 720x576 with 1 Axes>"
      ]
     },
     "metadata": {
      "needs_background": "light"
     },
     "output_type": "display_data"
    }
   ],
   "source": [
    "    importances = tree_classifier.model.feature_importances_\n",
    "    feature_names = np.array(columns)\n",
    "    # 排序\n",
    "    sorted_idx = np.argsort(importances)\n",
    "    # 绘制特征重要性图表\n",
    "    plt.figure(figsize=(10, 8))\n",
    "    plt.barh(range(len(importances)), importances[sorted_idx], align='center')\n",
    "    plt.yticks(range(len(importances)), feature_names[sorted_idx])\n",
    "    plt.xlabel('Feature Importance')\n",
    "    plt.ylabel('Feature')\n",
    "    plt.title('Decision Tree Feature Importance')\n",
    "    plt.show()"
   ]
  },
  {
   "cell_type": "code",
   "execution_count": 13,
   "metadata": {},
   "outputs": [
    {
     "name": "stdout",
     "output_type": "stream",
     "text": [
      "预测错误的场次队伍分数差：\n",
      "2\n",
      "-11\n",
      "7\n",
      "-5\n",
      "6\n",
      "4\n",
      "1\n",
      "-45\n",
      "-4\n",
      "-8\n",
      "预测错误的场次队伍战力差：\n",
      "[  6  16   2   3 -16  17  16  -2 -11  10]\n",
      "预测错误的场次队伍赛季终排名差：\n",
      "[  3  -3   3 -12  -7   9  15  -8  -4 -17]\n",
      "底特律活塞队预测结果：\n",
      "[1 1 1 0 1 0 1 1 0 0 0 1 0 0 1 1 1 1 0 0]\n"
     ]
    }
   ],
   "source": [
    "analyse_res(logit_pred, y_test, f2)  # 分析预测错误结果的原因\n",
    "temp_det, game_res_det = man_data(f3, X2)\n",
    "pre_det = logistic_classifier.model.predict(temp_det)  # 预测DET队的胜场\n",
    "print('底特律活塞队预测结果：')\n",
    "print(pre_det)"
   ]
  }
 ],
 "metadata": {
  "kernelspec": {
   "display_name": "Python 3",
   "language": "python",
   "name": "python3"
  },
  "language_info": {
   "codemirror_mode": {
    "name": "ipython",
    "version": 3
   },
   "file_extension": ".py",
   "mimetype": "text/x-python",
   "name": "python",
   "nbconvert_exporter": "python",
   "pygments_lexer": "ipython3",
   "version": "3.7.0"
  }
 },
 "nbformat": 4,
 "nbformat_minor": 2
}
